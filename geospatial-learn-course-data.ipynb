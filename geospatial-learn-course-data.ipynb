{
 "cells": [
  {
   "cell_type": "code",
   "execution_count": 1,
   "id": "b57fe063",
   "metadata": {
    "_cell_guid": "b1076dfc-b9ad-4769-8c92-a6c4dae69d19",
    "_uuid": "8f2839f25d086af736a60e9eeb907d3b93b6e0e5",
    "execution": {
     "iopub.execute_input": "2025-09-06T07:56:05.660913Z",
     "iopub.status.busy": "2025-09-06T07:56:05.660578Z",
     "iopub.status.idle": "2025-09-06T07:56:08.131882Z",
     "shell.execute_reply": "2025-09-06T07:56:08.131085Z"
    },
    "papermill": {
     "duration": 2.477274,
     "end_time": "2025-09-06T07:56:08.133284",
     "exception": false,
     "start_time": "2025-09-06T07:56:05.656010",
     "status": "completed"
    },
    "tags": []
   },
   "outputs": [
    {
     "name": "stdout",
     "output_type": "stream",
     "text": [
      "/kaggle/input/geospatial-learn-course-data/CA_county_median_age.csv\n",
      "/kaggle/input/geospatial-learn-course-data/top_universities.csv\n",
      "/kaggle/input/geospatial-learn-course-data/japan-prefecture-population.csv\n",
      "/kaggle/input/geospatial-learn-course-data/CA_county_population.csv\n",
      "/kaggle/input/geospatial-learn-course-data/earthquakes1970-2014.csv\n",
      "/kaggle/input/geospatial-learn-course-data/Philippines_AL258.kml\n",
      "/kaggle/input/geospatial-learn-course-data/starbucks_locations.csv\n",
      "/kaggle/input/geospatial-learn-course-data/purple_martin.csv\n",
      "/kaggle/input/geospatial-learn-course-data/CA_county_high_earners.csv\n",
      "/kaggle/input/geospatial-learn-course-data/PhillyHealth_Air_Monitoring_Stations/PhillyHealth_Air_Monitoring_Stations/PhillyHealth_Air_Monitoring_Stations.cpg\n",
      "/kaggle/input/geospatial-learn-course-data/PhillyHealth_Air_Monitoring_Stations/PhillyHealth_Air_Monitoring_Stations/PhillyHealth_Air_Monitoring_Stations.shx\n",
      "/kaggle/input/geospatial-learn-course-data/PhillyHealth_Air_Monitoring_Stations/PhillyHealth_Air_Monitoring_Stations/PhillyHealth_Air_Monitoring_Stations.shp\n",
      "/kaggle/input/geospatial-learn-course-data/PhillyHealth_Air_Monitoring_Stations/PhillyHealth_Air_Monitoring_Stations/PhillyHealth_Air_Monitoring_Stations.prj\n",
      "/kaggle/input/geospatial-learn-course-data/PhillyHealth_Air_Monitoring_Stations/PhillyHealth_Air_Monitoring_Stations/PhillyHealth_Air_Monitoring_Stations.dbf\n",
      "/kaggle/input/geospatial-learn-course-data/NYPD_Motor_Vehicle_Collisions/NYPD_Motor_Vehicle_Collisions/NYPD_Motor_Vehicle_Collisions.cpg\n",
      "/kaggle/input/geospatial-learn-course-data/NYPD_Motor_Vehicle_Collisions/NYPD_Motor_Vehicle_Collisions/NYPD_Motor_Vehicle_Collisions.shp\n",
      "/kaggle/input/geospatial-learn-course-data/NYPD_Motor_Vehicle_Collisions/NYPD_Motor_Vehicle_Collisions/NYPD_Motor_Vehicle_Collisions.dbf\n",
      "/kaggle/input/geospatial-learn-course-data/NYPD_Motor_Vehicle_Collisions/NYPD_Motor_Vehicle_Collisions/NYPD_Motor_Vehicle_Collisions.shx\n",
      "/kaggle/input/geospatial-learn-course-data/NYPD_Motor_Vehicle_Collisions/NYPD_Motor_Vehicle_Collisions/NYPD_Motor_Vehicle_Collisions.prj\n",
      "/kaggle/input/geospatial-learn-course-data/ex4_files/ex4_files/add_3.cpg\n",
      "/kaggle/input/geospatial-learn-course-data/ex4_files/ex4_files/add_4.shx\n",
      "/kaggle/input/geospatial-learn-course-data/ex4_files/ex4_files/add_2.dbf\n",
      "/kaggle/input/geospatial-learn-course-data/ex4_files/ex4_files/add_4.dbf\n",
      "/kaggle/input/geospatial-learn-course-data/ex4_files/ex4_files/add_3.shx\n",
      "/kaggle/input/geospatial-learn-course-data/ex4_files/ex4_files/add_2.shp\n",
      "/kaggle/input/geospatial-learn-course-data/ex4_files/ex4_files/add_0.dbf\n",
      "/kaggle/input/geospatial-learn-course-data/ex4_files/ex4_files/add_1.dbf\n",
      "/kaggle/input/geospatial-learn-course-data/ex4_files/ex4_files/add_2.cpg\n",
      "/kaggle/input/geospatial-learn-course-data/ex4_files/ex4_files/add_0.cpg\n",
      "/kaggle/input/geospatial-learn-course-data/ex4_files/ex4_files/add_1.shx\n",
      "/kaggle/input/geospatial-learn-course-data/ex4_files/ex4_files/add_3.dbf\n",
      "/kaggle/input/geospatial-learn-course-data/ex4_files/ex4_files/add_4.cpg\n",
      "/kaggle/input/geospatial-learn-course-data/ex4_files/ex4_files/add_0.shx\n",
      "/kaggle/input/geospatial-learn-course-data/ex4_files/ex4_files/add_2.prj\n",
      "/kaggle/input/geospatial-learn-course-data/ex4_files/ex4_files/add_4.shp\n",
      "/kaggle/input/geospatial-learn-course-data/ex4_files/ex4_files/add_1.cpg\n",
      "/kaggle/input/geospatial-learn-course-data/ex4_files/ex4_files/add_3.prj\n",
      "/kaggle/input/geospatial-learn-course-data/ex4_files/ex4_files/add_0.shp\n",
      "/kaggle/input/geospatial-learn-course-data/ex4_files/ex4_files/add_4.prj\n",
      "/kaggle/input/geospatial-learn-course-data/ex4_files/ex4_files/add_1.prj\n",
      "/kaggle/input/geospatial-learn-course-data/ex4_files/ex4_files/add_0.prj\n",
      "/kaggle/input/geospatial-learn-course-data/ex4_files/ex4_files/add_1.shp\n",
      "/kaggle/input/geospatial-learn-course-data/ex4_files/ex4_files/add_2.shx\n",
      "/kaggle/input/geospatial-learn-course-data/ex4_files/ex4_files/add_3.shp\n",
      "/kaggle/input/geospatial-learn-course-data/nyu_2451_34494/nyu_2451_34494/nyu_2451_34494.shx\n",
      "/kaggle/input/geospatial-learn-course-data/nyu_2451_34494/nyu_2451_34494/nyu_2451_34494.prj\n",
      "/kaggle/input/geospatial-learn-course-data/nyu_2451_34494/nyu_2451_34494/nyu_2451_34494.shp\n",
      "/kaggle/input/geospatial-learn-course-data/nyu_2451_34494/nyu_2451_34494/nyu_2451_34494.cpg\n",
      "/kaggle/input/geospatial-learn-course-data/nyu_2451_34494/nyu_2451_34494/nyu_2451_34494.dbf\n",
      "/kaggle/input/geospatial-learn-course-data/SAPA_Aug2019-shapefile/SAPA_Aug2019-shapefile/SAPA_Aug2019-shapefile-polygons.cpg\n",
      "/kaggle/input/geospatial-learn-course-data/SAPA_Aug2019-shapefile/SAPA_Aug2019-shapefile/SAPA_Aug2019-shapefile-polygons.shp\n",
      "/kaggle/input/geospatial-learn-course-data/SAPA_Aug2019-shapefile/SAPA_Aug2019-shapefile/SAPA_Aug2019-shapefile-polygons.shx\n",
      "/kaggle/input/geospatial-learn-course-data/SAPA_Aug2019-shapefile/SAPA_Aug2019-shapefile/SAPA_Aug2019-shapefile-polygons.dbf\n",
      "/kaggle/input/geospatial-learn-course-data/SAPA_Aug2019-shapefile/SAPA_Aug2019-shapefile/SAPA_Aug2019-shapefile-polygons.prj\n",
      "/kaggle/input/geospatial-learn-course-data/Plate_Boundaries/Plate_Boundaries/Plate_Boundaries.prj\n",
      "/kaggle/input/geospatial-learn-course-data/Plate_Boundaries/Plate_Boundaries/Plate_Boundaries.shx\n",
      "/kaggle/input/geospatial-learn-course-data/Plate_Boundaries/Plate_Boundaries/Plate_Boundaries.dbf\n",
      "/kaggle/input/geospatial-learn-course-data/Plate_Boundaries/Plate_Boundaries/Plate_Boundaries.shp.xml\n",
      "/kaggle/input/geospatial-learn-course-data/Plate_Boundaries/Plate_Boundaries/Plate_Boundaries.shp\n",
      "/kaggle/input/geospatial-learn-course-data/Plate_Boundaries/Plate_Boundaries/Plate_Boundaries.sbn\n",
      "/kaggle/input/geospatial-learn-course-data/Plate_Boundaries/Plate_Boundaries/Plate_Boundaries.sbx\n",
      "/kaggle/input/geospatial-learn-course-data/DEC_roadstrails/DEC_roadstrails/Decroadstrails.prj\n",
      "/kaggle/input/geospatial-learn-course-data/DEC_roadstrails/DEC_roadstrails/Decroadstrails.shp\n",
      "/kaggle/input/geospatial-learn-course-data/DEC_roadstrails/DEC_roadstrails/Decroadstrails.CPG\n",
      "/kaggle/input/geospatial-learn-course-data/DEC_roadstrails/DEC_roadstrails/Decroadstrails.dbf\n",
      "/kaggle/input/geospatial-learn-course-data/DEC_roadstrails/DEC_roadstrails/Decroadstrails.sbn\n",
      "/kaggle/input/geospatial-learn-course-data/DEC_roadstrails/DEC_roadstrails/Decroadstrails.shp.xml\n",
      "/kaggle/input/geospatial-learn-course-data/DEC_roadstrails/DEC_roadstrails/Decroadstrails.shx\n",
      "/kaggle/input/geospatial-learn-course-data/DEC_roadstrails/DEC_roadstrails/Decroadstrails.sbx\n",
      "/kaggle/input/geospatial-learn-course-data/DEC_roadstrails/DEC_roadstrails/DECroadstrails.html\n",
      "/kaggle/input/geospatial-learn-course-data/crimes-in-boston/crimes-in-boston/crime.csv\n",
      "/kaggle/input/geospatial-learn-course-data/crimes-in-boston/crimes-in-boston/offense_codes.csv\n",
      "/kaggle/input/geospatial-learn-course-data/kiva_loans/kiva_loans/kiva_loans.cpg\n",
      "/kaggle/input/geospatial-learn-course-data/kiva_loans/kiva_loans/kiva_loans.shx\n",
      "/kaggle/input/geospatial-learn-course-data/kiva_loans/kiva_loans/kiva_loans.dbf\n",
      "/kaggle/input/geospatial-learn-course-data/kiva_loans/kiva_loans/kiva_loans.shp\n",
      "/kaggle/input/geospatial-learn-course-data/Police_Districts/Police_Districts/Police_Districts.shp\n",
      "/kaggle/input/geospatial-learn-course-data/Police_Districts/Police_Districts/Police_Districts.dbf\n",
      "/kaggle/input/geospatial-learn-course-data/Police_Districts/Police_Districts/Police_Districts.prj\n",
      "/kaggle/input/geospatial-learn-course-data/Police_Districts/Police_Districts/Police_Districts.cpg\n",
      "/kaggle/input/geospatial-learn-course-data/Police_Districts/Police_Districts/Police_Districts.shx\n",
      "/kaggle/input/geospatial-learn-course-data/japan-prefecture-boundaries/japan-prefecture-boundaries/japan-prefecture-boundaries.cpg\n",
      "/kaggle/input/geospatial-learn-course-data/japan-prefecture-boundaries/japan-prefecture-boundaries/japan-prefecture-boundaries.dbf\n",
      "/kaggle/input/geospatial-learn-course-data/japan-prefecture-boundaries/japan-prefecture-boundaries/japan-prefecture-boundaries.shp\n",
      "/kaggle/input/geospatial-learn-course-data/japan-prefecture-boundaries/japan-prefecture-boundaries/japan-prefecture-boundaries.shx\n",
      "/kaggle/input/geospatial-learn-course-data/japan-prefecture-boundaries/japan-prefecture-boundaries/japan-prefecture-boundaries.prj\n",
      "/kaggle/input/geospatial-learn-course-data/DEC_pointsinterest/DEC_pointsinterest/Decptsofinterest.shx\n",
      "/kaggle/input/geospatial-learn-course-data/DEC_pointsinterest/DEC_pointsinterest/DEC_pointsinterest.htm\n",
      "/kaggle/input/geospatial-learn-course-data/DEC_pointsinterest/DEC_pointsinterest/Decptsofinterest.sbx\n",
      "/kaggle/input/geospatial-learn-course-data/DEC_pointsinterest/DEC_pointsinterest/Decptsofinterest.dbf\n",
      "/kaggle/input/geospatial-learn-course-data/DEC_pointsinterest/DEC_pointsinterest/Decptsofinterest.CPG\n",
      "/kaggle/input/geospatial-learn-course-data/DEC_pointsinterest/DEC_pointsinterest/Decptsofinterest.sbn\n",
      "/kaggle/input/geospatial-learn-course-data/DEC_pointsinterest/DEC_pointsinterest/Decptsofinterest.shp\n",
      "/kaggle/input/geospatial-learn-course-data/DEC_pointsinterest/DEC_pointsinterest/Decptsofinterest.shp.xml\n",
      "/kaggle/input/geospatial-learn-course-data/DEC_pointsinterest/DEC_pointsinterest/Decptsofinterest.prj\n",
      "/kaggle/input/geospatial-learn-course-data/CA_county_boundaries/CA_county_boundaries/CA_county_boundaries.prj\n",
      "/kaggle/input/geospatial-learn-course-data/CA_county_boundaries/CA_county_boundaries/CA_county_boundaries.dbf\n",
      "/kaggle/input/geospatial-learn-course-data/CA_county_boundaries/CA_county_boundaries/CA_county_boundaries.shp\n",
      "/kaggle/input/geospatial-learn-course-data/CA_county_boundaries/CA_county_boundaries/CA_county_boundaries.shx\n",
      "/kaggle/input/geospatial-learn-course-data/CA_county_boundaries/CA_county_boundaries/CA_county_boundaries.cpg\n",
      "/kaggle/input/geospatial-learn-course-data/ghana/ghana/health_facilities.csv\n",
      "/kaggle/input/geospatial-learn-course-data/ghana/ghana/Regions/Map_of_Regions_in_Ghana.cpg\n",
      "/kaggle/input/geospatial-learn-course-data/ghana/ghana/Regions/Map_of_Regions_in_Ghana.shp\n",
      "/kaggle/input/geospatial-learn-course-data/ghana/ghana/Regions/Map_of_Regions_in_Ghana.shx\n",
      "/kaggle/input/geospatial-learn-course-data/ghana/ghana/Regions/Map_of_Regions_in_Ghana.dbf\n",
      "/kaggle/input/geospatial-learn-course-data/ghana/ghana/Regions/Map_of_Regions_in_Ghana.shp.xml\n",
      "/kaggle/input/geospatial-learn-course-data/ghana/ghana/Regions/Map_of_Regions_in_Ghana.prj\n",
      "/kaggle/input/geospatial-learn-course-data/DEC_lands/DEC_lands/DEC_lands.sbx\n",
      "/kaggle/input/geospatial-learn-course-data/DEC_lands/DEC_lands/DEC_lands.shp.xml\n",
      "/kaggle/input/geospatial-learn-course-data/DEC_lands/DEC_lands/DEC_Lands.html\n",
      "/kaggle/input/geospatial-learn-course-data/DEC_lands/DEC_lands/DEC_lands.cpg\n",
      "/kaggle/input/geospatial-learn-course-data/DEC_lands/DEC_lands/DEC_lands.prj\n",
      "/kaggle/input/geospatial-learn-course-data/DEC_lands/DEC_lands/DEC_lands.dbf\n",
      "/kaggle/input/geospatial-learn-course-data/DEC_lands/DEC_lands/DEC_lands.shx\n",
      "/kaggle/input/geospatial-learn-course-data/DEC_lands/DEC_lands/DEC_lands.sbn\n",
      "/kaggle/input/geospatial-learn-course-data/DEC_lands/DEC_lands/DEC_lands.shp\n",
      "/kaggle/input/geospatial-learn-course-data/toxic_release_pennsylvania/toxic_release_pennsylvania/toxic_release_pennsylvania.shp\n",
      "/kaggle/input/geospatial-learn-course-data/toxic_release_pennsylvania/toxic_release_pennsylvania/toxic_release_pennsylvania.cpg\n",
      "/kaggle/input/geospatial-learn-course-data/toxic_release_pennsylvania/toxic_release_pennsylvania/toxic_release_pennsylvania.shx\n",
      "/kaggle/input/geospatial-learn-course-data/toxic_release_pennsylvania/toxic_release_pennsylvania/toxic_release_pennsylvania.dbf\n",
      "/kaggle/input/geospatial-learn-course-data/toxic_release_pennsylvania/toxic_release_pennsylvania/toxic_release_pennsylvania.prj\n",
      "/kaggle/input/geospatial-learn-course-data/NY_county_boundaries/NY_county_boundaries/NY_county_boundaries.prj\n",
      "/kaggle/input/geospatial-learn-course-data/NY_county_boundaries/NY_county_boundaries/NY_county_boundaries.shp\n",
      "/kaggle/input/geospatial-learn-course-data/NY_county_boundaries/NY_county_boundaries/NY_county_boundaries.shx\n",
      "/kaggle/input/geospatial-learn-course-data/NY_county_boundaries/NY_county_boundaries/NY_county_boundaries.dbf\n",
      "/kaggle/input/geospatial-learn-course-data/NY_county_boundaries/NY_county_boundaries/NY_county_boundaries.cpg\n"
     ]
    }
   ],
   "source": [
    "# This Python 3 environment comes with many helpful analytics libraries installed\n",
    "# It is defined by the kaggle/python Docker image: https://github.com/kaggle/docker-python\n",
    "# For example, here's several helpful packages to load\n",
    "\n",
    "import numpy as np # linear algebra\n",
    "import pandas as pd # data processing, CSV file I/O (e.g. pd.read_csv)\n",
    "\n",
    "# Input data files are available in the read-only \"../input/\" directory\n",
    "# For example, running this (by clicking run or pressing Shift+Enter) will list all files under the input directory\n",
    "\n",
    "import os\n",
    "for dirname, _, filenames in os.walk('/kaggle/input'):\n",
    "    for filename in filenames:\n",
    "        print(os.path.join(dirname, filename))\n",
    "\n",
    "# You can write up to 20GB to the current directory (/kaggle/working/) that gets preserved as output when you create a version using \"Save & Run All\" \n",
    "# You can also write temporary files to /kaggle/temp/, but they won't be saved outside of the current session"
   ]
  },
  {
   "cell_type": "code",
   "execution_count": 2,
   "id": "169dccd9",
   "metadata": {
    "execution": {
     "iopub.execute_input": "2025-09-06T07:56:08.141340Z",
     "iopub.status.busy": "2025-09-06T07:56:08.140920Z",
     "iopub.status.idle": "2025-09-06T07:56:53.161896Z",
     "shell.execute_reply": "2025-09-06T07:56:53.161079Z"
    },
    "papermill": {
     "duration": 45.026748,
     "end_time": "2025-09-06T07:56:53.163635",
     "exception": false,
     "start_time": "2025-09-06T07:56:08.136887",
     "status": "completed"
    },
    "tags": []
   },
   "outputs": [],
   "source": [
    "import math\n",
    "import geopandas as gpd\n",
    "import pandas as pd\n",
    "from shapely.geometry import MultiPolygon\n",
    "\n",
    "import folium\n",
    "from folium import Choropleth, Marker\n",
    "from folium.plugins import HeatMap, MarkerCluster\n",
    "\n",
    "from learntools.core import binder\n",
    "binder.bind(globals())\n",
    "from learntools.geospatial.ex5 import *"
   ]
  },
  {
   "cell_type": "code",
   "execution_count": 3,
   "id": "fb511031",
   "metadata": {
    "execution": {
     "iopub.execute_input": "2025-09-06T07:56:53.171480Z",
     "iopub.status.busy": "2025-09-06T07:56:53.171206Z",
     "iopub.status.idle": "2025-09-06T07:56:53.175782Z",
     "shell.execute_reply": "2025-09-06T07:56:53.174861Z"
    },
    "papermill": {
     "duration": 0.010085,
     "end_time": "2025-09-06T07:56:53.177313",
     "exception": false,
     "start_time": "2025-09-06T07:56:53.167228",
     "status": "completed"
    },
    "tags": []
   },
   "outputs": [],
   "source": [
    "def embed_map(m, file_name):\n",
    "    from IPython.display import IFrame\n",
    "    m.save(file_name)\n",
    "    return IFrame(file_name, width='100%', height='500px')"
   ]
  },
  {
   "cell_type": "code",
   "execution_count": 4,
   "id": "0dd87fd4",
   "metadata": {
    "execution": {
     "iopub.execute_input": "2025-09-06T07:56:53.184812Z",
     "iopub.status.busy": "2025-09-06T07:56:53.184537Z",
     "iopub.status.idle": "2025-09-06T07:57:33.260206Z",
     "shell.execute_reply": "2025-09-06T07:57:33.259377Z"
    },
    "papermill": {
     "duration": 40.084518,
     "end_time": "2025-09-06T07:57:33.265162",
     "exception": false,
     "start_time": "2025-09-06T07:56:53.180644",
     "status": "completed"
    },
    "tags": []
   },
   "outputs": [
    {
     "data": {
      "text/html": [
       "<div>\n",
       "<style scoped>\n",
       "    .dataframe tbody tr th:only-of-type {\n",
       "        vertical-align: middle;\n",
       "    }\n",
       "\n",
       "    .dataframe tbody tr th {\n",
       "        vertical-align: top;\n",
       "    }\n",
       "\n",
       "    .dataframe thead th {\n",
       "        text-align: right;\n",
       "    }\n",
       "</style>\n",
       "<table border=\"1\" class=\"dataframe\">\n",
       "  <thead>\n",
       "    <tr style=\"text-align: right;\">\n",
       "      <th></th>\n",
       "      <th>DATE</th>\n",
       "      <th>TIME</th>\n",
       "      <th>BOROUGH</th>\n",
       "      <th>ZIP CODE</th>\n",
       "      <th>LATITUDE</th>\n",
       "      <th>LONGITUDE</th>\n",
       "      <th>LOCATION</th>\n",
       "      <th>ON STREET</th>\n",
       "      <th>CROSS STRE</th>\n",
       "      <th>OFF STREET</th>\n",
       "      <th>...</th>\n",
       "      <th>CONTRIBU_2</th>\n",
       "      <th>CONTRIBU_3</th>\n",
       "      <th>CONTRIBU_4</th>\n",
       "      <th>UNIQUE KEY</th>\n",
       "      <th>VEHICLE TY</th>\n",
       "      <th>VEHICLE _1</th>\n",
       "      <th>VEHICLE _2</th>\n",
       "      <th>VEHICLE _3</th>\n",
       "      <th>VEHICLE _4</th>\n",
       "      <th>geometry</th>\n",
       "    </tr>\n",
       "  </thead>\n",
       "  <tbody>\n",
       "    <tr>\n",
       "      <th>0</th>\n",
       "      <td>07/30/2019</td>\n",
       "      <td>0:00</td>\n",
       "      <td>BRONX</td>\n",
       "      <td>10464</td>\n",
       "      <td>40.841100</td>\n",
       "      <td>-73.784960</td>\n",
       "      <td>(40.8411, -73.78496)</td>\n",
       "      <td>None</td>\n",
       "      <td>None</td>\n",
       "      <td>121       PILOT STREET</td>\n",
       "      <td>...</td>\n",
       "      <td>Unspecified</td>\n",
       "      <td>None</td>\n",
       "      <td>None</td>\n",
       "      <td>4180045</td>\n",
       "      <td>Sedan</td>\n",
       "      <td>Station Wagon/Sport Utility Vehicle</td>\n",
       "      <td>Station Wagon/Sport Utility Vehicle</td>\n",
       "      <td>None</td>\n",
       "      <td>None</td>\n",
       "      <td>POINT (1043750.211 245785.815)</td>\n",
       "    </tr>\n",
       "    <tr>\n",
       "      <th>1</th>\n",
       "      <td>07/30/2019</td>\n",
       "      <td>0:10</td>\n",
       "      <td>QUEENS</td>\n",
       "      <td>11423</td>\n",
       "      <td>40.710827</td>\n",
       "      <td>-73.770660</td>\n",
       "      <td>(40.710827, -73.77066)</td>\n",
       "      <td>JAMAICA AVENUE</td>\n",
       "      <td>188 STREET</td>\n",
       "      <td>None</td>\n",
       "      <td>...</td>\n",
       "      <td>None</td>\n",
       "      <td>None</td>\n",
       "      <td>None</td>\n",
       "      <td>4180007</td>\n",
       "      <td>Sedan</td>\n",
       "      <td>Sedan</td>\n",
       "      <td>None</td>\n",
       "      <td>None</td>\n",
       "      <td>None</td>\n",
       "      <td>POINT (1047831.185 198333.171)</td>\n",
       "    </tr>\n",
       "    <tr>\n",
       "      <th>2</th>\n",
       "      <td>07/30/2019</td>\n",
       "      <td>0:25</td>\n",
       "      <td>None</td>\n",
       "      <td>None</td>\n",
       "      <td>40.880318</td>\n",
       "      <td>-73.841286</td>\n",
       "      <td>(40.880318, -73.841286)</td>\n",
       "      <td>BOSTON ROAD</td>\n",
       "      <td>None</td>\n",
       "      <td>None</td>\n",
       "      <td>...</td>\n",
       "      <td>None</td>\n",
       "      <td>None</td>\n",
       "      <td>None</td>\n",
       "      <td>4179575</td>\n",
       "      <td>Sedan</td>\n",
       "      <td>Station Wagon/Sport Utility Vehicle</td>\n",
       "      <td>None</td>\n",
       "      <td>None</td>\n",
       "      <td>None</td>\n",
       "      <td>POINT (1028139.293 260041.178)</td>\n",
       "    </tr>\n",
       "    <tr>\n",
       "      <th>3</th>\n",
       "      <td>07/30/2019</td>\n",
       "      <td>0:35</td>\n",
       "      <td>MANHATTAN</td>\n",
       "      <td>10036</td>\n",
       "      <td>40.756744</td>\n",
       "      <td>-73.984590</td>\n",
       "      <td>(40.756744, -73.98459)</td>\n",
       "      <td>None</td>\n",
       "      <td>None</td>\n",
       "      <td>155       WEST 44 STREET</td>\n",
       "      <td>...</td>\n",
       "      <td>None</td>\n",
       "      <td>None</td>\n",
       "      <td>None</td>\n",
       "      <td>4179544</td>\n",
       "      <td>Box Truck</td>\n",
       "      <td>Station Wagon/Sport Utility Vehicle</td>\n",
       "      <td>None</td>\n",
       "      <td>None</td>\n",
       "      <td>None</td>\n",
       "      <td>POINT (988519.261 214979.320)</td>\n",
       "    </tr>\n",
       "    <tr>\n",
       "      <th>4</th>\n",
       "      <td>07/30/2019</td>\n",
       "      <td>10:00</td>\n",
       "      <td>BROOKLYN</td>\n",
       "      <td>11223</td>\n",
       "      <td>40.600090</td>\n",
       "      <td>-73.965910</td>\n",
       "      <td>(40.60009, -73.96591)</td>\n",
       "      <td>AVENUE T</td>\n",
       "      <td>OCEAN PARKWAY</td>\n",
       "      <td>None</td>\n",
       "      <td>...</td>\n",
       "      <td>None</td>\n",
       "      <td>None</td>\n",
       "      <td>None</td>\n",
       "      <td>4180660</td>\n",
       "      <td>Station Wagon/Sport Utility Vehicle</td>\n",
       "      <td>Bike</td>\n",
       "      <td>None</td>\n",
       "      <td>None</td>\n",
       "      <td>None</td>\n",
       "      <td>POINT (993716.669 157907.212)</td>\n",
       "    </tr>\n",
       "  </tbody>\n",
       "</table>\n",
       "<p>5 rows × 30 columns</p>\n",
       "</div>"
      ],
      "text/plain": [
       "         DATE   TIME    BOROUGH ZIP CODE   LATITUDE  LONGITUDE  \\\n",
       "0  07/30/2019   0:00      BRONX    10464  40.841100 -73.784960   \n",
       "1  07/30/2019   0:10     QUEENS    11423  40.710827 -73.770660   \n",
       "2  07/30/2019   0:25       None     None  40.880318 -73.841286   \n",
       "3  07/30/2019   0:35  MANHATTAN    10036  40.756744 -73.984590   \n",
       "4  07/30/2019  10:00   BROOKLYN    11223  40.600090 -73.965910   \n",
       "\n",
       "                  LOCATION       ON STREET     CROSS STRE  \\\n",
       "0     (40.8411, -73.78496)            None           None   \n",
       "1   (40.710827, -73.77066)  JAMAICA AVENUE     188 STREET   \n",
       "2  (40.880318, -73.841286)     BOSTON ROAD           None   \n",
       "3   (40.756744, -73.98459)            None           None   \n",
       "4    (40.60009, -73.96591)        AVENUE T  OCEAN PARKWAY   \n",
       "\n",
       "                 OFF STREET  ...   CONTRIBU_2  CONTRIBU_3  CONTRIBU_4  \\\n",
       "0    121       PILOT STREET  ...  Unspecified        None        None   \n",
       "1                      None  ...         None        None        None   \n",
       "2                      None  ...         None        None        None   \n",
       "3  155       WEST 44 STREET  ...         None        None        None   \n",
       "4                      None  ...         None        None        None   \n",
       "\n",
       "   UNIQUE KEY                           VEHICLE TY  \\\n",
       "0     4180045                                Sedan   \n",
       "1     4180007                                Sedan   \n",
       "2     4179575                                Sedan   \n",
       "3     4179544                            Box Truck   \n",
       "4     4180660  Station Wagon/Sport Utility Vehicle   \n",
       "\n",
       "                            VEHICLE _1                           VEHICLE _2  \\\n",
       "0  Station Wagon/Sport Utility Vehicle  Station Wagon/Sport Utility Vehicle   \n",
       "1                                Sedan                                 None   \n",
       "2  Station Wagon/Sport Utility Vehicle                                 None   \n",
       "3  Station Wagon/Sport Utility Vehicle                                 None   \n",
       "4                                 Bike                                 None   \n",
       "\n",
       "   VEHICLE _3 VEHICLE _4                        geometry  \n",
       "0        None       None  POINT (1043750.211 245785.815)  \n",
       "1        None       None  POINT (1047831.185 198333.171)  \n",
       "2        None       None  POINT (1028139.293 260041.178)  \n",
       "3        None       None   POINT (988519.261 214979.320)  \n",
       "4        None       None   POINT (993716.669 157907.212)  \n",
       "\n",
       "[5 rows x 30 columns]"
      ]
     },
     "execution_count": 4,
     "metadata": {},
     "output_type": "execute_result"
    }
   ],
   "source": [
    "collisions = gpd.read_file(\"../input/geospatial-learn-course-data/NYPD_Motor_Vehicle_Collisions/NYPD_Motor_Vehicle_Collisions/NYPD_Motor_Vehicle_Collisions.shp\")\n",
    "collisions.head()"
   ]
  },
  {
   "cell_type": "code",
   "execution_count": 5,
   "id": "d2890040",
   "metadata": {
    "execution": {
     "iopub.execute_input": "2025-09-06T07:57:33.273404Z",
     "iopub.status.busy": "2025-09-06T07:57:33.273115Z",
     "iopub.status.idle": "2025-09-06T07:57:35.669555Z",
     "shell.execute_reply": "2025-09-06T07:57:35.668701Z"
    },
    "papermill": {
     "duration": 2.402668,
     "end_time": "2025-09-06T07:57:35.671349",
     "exception": false,
     "start_time": "2025-09-06T07:57:33.268681",
     "status": "completed"
    },
    "tags": []
   },
   "outputs": [
    {
     "data": {
      "text/html": [
       "\n",
       "        <iframe\n",
       "            width=\"100%\"\n",
       "            height=\"500px\"\n",
       "            src=\"q_1.html\"\n",
       "            frameborder=\"0\"\n",
       "            allowfullscreen\n",
       "            \n",
       "        ></iframe>\n",
       "        "
      ],
      "text/plain": [
       "<IPython.lib.display.IFrame at 0x7b7ea7b8d310>"
      ]
     },
     "execution_count": 5,
     "metadata": {},
     "output_type": "execute_result"
    }
   ],
   "source": [
    "m_1 = folium.Map(location=[40.7, -74], zoom_start=11) \n",
    "\n",
    "HeatMap(data=collisions[['LATITUDE', 'LONGITUDE']], radius=9).add_to(m_1)\n",
    "\n",
    "embed_map(m_1, \"q_1.html\")"
   ]
  },
  {
   "cell_type": "code",
   "execution_count": 6,
   "id": "1c7e11a9",
   "metadata": {
    "execution": {
     "iopub.execute_input": "2025-09-06T07:57:35.680578Z",
     "iopub.status.busy": "2025-09-06T07:57:35.679805Z",
     "iopub.status.idle": "2025-09-06T07:57:35.991081Z",
     "shell.execute_reply": "2025-09-06T07:57:35.990288Z"
    },
    "papermill": {
     "duration": 0.317289,
     "end_time": "2025-09-06T07:57:35.992538",
     "exception": false,
     "start_time": "2025-09-06T07:57:35.675249",
     "status": "completed"
    },
    "tags": []
   },
   "outputs": [
    {
     "data": {
      "text/html": [
       "<div>\n",
       "<style scoped>\n",
       "    .dataframe tbody tr th:only-of-type {\n",
       "        vertical-align: middle;\n",
       "    }\n",
       "\n",
       "    .dataframe tbody tr th {\n",
       "        vertical-align: top;\n",
       "    }\n",
       "\n",
       "    .dataframe thead th {\n",
       "        text-align: right;\n",
       "    }\n",
       "</style>\n",
       "<table border=\"1\" class=\"dataframe\">\n",
       "  <thead>\n",
       "    <tr style=\"text-align: right;\">\n",
       "      <th></th>\n",
       "      <th>id</th>\n",
       "      <th>name</th>\n",
       "      <th>address</th>\n",
       "      <th>zip</th>\n",
       "      <th>factype</th>\n",
       "      <th>facname</th>\n",
       "      <th>capacity</th>\n",
       "      <th>capname</th>\n",
       "      <th>bcode</th>\n",
       "      <th>xcoord</th>\n",
       "      <th>ycoord</th>\n",
       "      <th>latitude</th>\n",
       "      <th>longitude</th>\n",
       "      <th>geometry</th>\n",
       "    </tr>\n",
       "  </thead>\n",
       "  <tbody>\n",
       "    <tr>\n",
       "      <th>0</th>\n",
       "      <td>317000001H1178</td>\n",
       "      <td>BRONX-LEBANON HOSPITAL CENTER - CONCOURSE DIVI...</td>\n",
       "      <td>1650 Grand Concourse</td>\n",
       "      <td>10457</td>\n",
       "      <td>3102</td>\n",
       "      <td>Hospital</td>\n",
       "      <td>415</td>\n",
       "      <td>Beds</td>\n",
       "      <td>36005</td>\n",
       "      <td>1008872.0</td>\n",
       "      <td>246596.0</td>\n",
       "      <td>40.843490</td>\n",
       "      <td>-73.911010</td>\n",
       "      <td>POINT (1008872.000 246596.000)</td>\n",
       "    </tr>\n",
       "    <tr>\n",
       "      <th>1</th>\n",
       "      <td>317000001H1164</td>\n",
       "      <td>BRONX-LEBANON HOSPITAL CENTER - FULTON DIVISION</td>\n",
       "      <td>1276 Fulton Ave</td>\n",
       "      <td>10456</td>\n",
       "      <td>3102</td>\n",
       "      <td>Hospital</td>\n",
       "      <td>164</td>\n",
       "      <td>Beds</td>\n",
       "      <td>36005</td>\n",
       "      <td>1011044.0</td>\n",
       "      <td>242204.0</td>\n",
       "      <td>40.831429</td>\n",
       "      <td>-73.903178</td>\n",
       "      <td>POINT (1011044.000 242204.000)</td>\n",
       "    </tr>\n",
       "    <tr>\n",
       "      <th>2</th>\n",
       "      <td>317000011H1175</td>\n",
       "      <td>CALVARY HOSPITAL INC</td>\n",
       "      <td>1740-70 Eastchester Rd</td>\n",
       "      <td>10461</td>\n",
       "      <td>3102</td>\n",
       "      <td>Hospital</td>\n",
       "      <td>225</td>\n",
       "      <td>Beds</td>\n",
       "      <td>36005</td>\n",
       "      <td>1027505.0</td>\n",
       "      <td>248287.0</td>\n",
       "      <td>40.848060</td>\n",
       "      <td>-73.843656</td>\n",
       "      <td>POINT (1027505.000 248287.000)</td>\n",
       "    </tr>\n",
       "    <tr>\n",
       "      <th>3</th>\n",
       "      <td>317000002H1165</td>\n",
       "      <td>JACOBI MEDICAL CENTER</td>\n",
       "      <td>1400 Pelham Pkwy</td>\n",
       "      <td>10461</td>\n",
       "      <td>3102</td>\n",
       "      <td>Hospital</td>\n",
       "      <td>457</td>\n",
       "      <td>Beds</td>\n",
       "      <td>36005</td>\n",
       "      <td>1027042.0</td>\n",
       "      <td>251065.0</td>\n",
       "      <td>40.855687</td>\n",
       "      <td>-73.845311</td>\n",
       "      <td>POINT (1027042.000 251065.000)</td>\n",
       "    </tr>\n",
       "    <tr>\n",
       "      <th>4</th>\n",
       "      <td>317000008H1172</td>\n",
       "      <td>LINCOLN MEDICAL &amp; MENTAL HEALTH CENTER</td>\n",
       "      <td>234 E 149 St</td>\n",
       "      <td>10451</td>\n",
       "      <td>3102</td>\n",
       "      <td>Hospital</td>\n",
       "      <td>362</td>\n",
       "      <td>Beds</td>\n",
       "      <td>36005</td>\n",
       "      <td>1005154.0</td>\n",
       "      <td>236853.0</td>\n",
       "      <td>40.816758</td>\n",
       "      <td>-73.924478</td>\n",
       "      <td>POINT (1005154.000 236853.000)</td>\n",
       "    </tr>\n",
       "  </tbody>\n",
       "</table>\n",
       "</div>"
      ],
      "text/plain": [
       "               id                                               name  \\\n",
       "0  317000001H1178  BRONX-LEBANON HOSPITAL CENTER - CONCOURSE DIVI...   \n",
       "1  317000001H1164    BRONX-LEBANON HOSPITAL CENTER - FULTON DIVISION   \n",
       "2  317000011H1175                               CALVARY HOSPITAL INC   \n",
       "3  317000002H1165                              JACOBI MEDICAL CENTER   \n",
       "4  317000008H1172             LINCOLN MEDICAL & MENTAL HEALTH CENTER   \n",
       "\n",
       "                  address    zip factype   facname capacity capname  bcode  \\\n",
       "0    1650 Grand Concourse  10457    3102  Hospital      415    Beds  36005   \n",
       "1         1276 Fulton Ave  10456    3102  Hospital      164    Beds  36005   \n",
       "2  1740-70 Eastchester Rd  10461    3102  Hospital      225    Beds  36005   \n",
       "3        1400 Pelham Pkwy  10461    3102  Hospital      457    Beds  36005   \n",
       "4            234 E 149 St  10451    3102  Hospital      362    Beds  36005   \n",
       "\n",
       "      xcoord    ycoord   latitude  longitude                        geometry  \n",
       "0  1008872.0  246596.0  40.843490 -73.911010  POINT (1008872.000 246596.000)  \n",
       "1  1011044.0  242204.0  40.831429 -73.903178  POINT (1011044.000 242204.000)  \n",
       "2  1027505.0  248287.0  40.848060 -73.843656  POINT (1027505.000 248287.000)  \n",
       "3  1027042.0  251065.0  40.855687 -73.845311  POINT (1027042.000 251065.000)  \n",
       "4  1005154.0  236853.0  40.816758 -73.924478  POINT (1005154.000 236853.000)  "
      ]
     },
     "execution_count": 6,
     "metadata": {},
     "output_type": "execute_result"
    }
   ],
   "source": [
    "hospitals = gpd.read_file(\"../input/geospatial-learn-course-data/nyu_2451_34494/nyu_2451_34494/nyu_2451_34494.shp\")\n",
    "hospitals.head()"
   ]
  },
  {
   "cell_type": "code",
   "execution_count": 7,
   "id": "287c3ea2",
   "metadata": {
    "execution": {
     "iopub.execute_input": "2025-09-06T07:57:36.001318Z",
     "iopub.status.busy": "2025-09-06T07:57:36.000769Z",
     "iopub.status.idle": "2025-09-06T07:57:36.076866Z",
     "shell.execute_reply": "2025-09-06T07:57:36.076076Z"
    },
    "papermill": {
     "duration": 0.081996,
     "end_time": "2025-09-06T07:57:36.078337",
     "exception": false,
     "start_time": "2025-09-06T07:57:35.996341",
     "status": "completed"
    },
    "tags": []
   },
   "outputs": [
    {
     "data": {
      "text/html": [
       "\n",
       "        <iframe\n",
       "            width=\"100%\"\n",
       "            height=\"500px\"\n",
       "            src=\"q_2.html\"\n",
       "            frameborder=\"0\"\n",
       "            allowfullscreen\n",
       "            \n",
       "        ></iframe>\n",
       "        "
      ],
      "text/plain": [
       "<IPython.lib.display.IFrame at 0x7b7ea7b9a510>"
      ]
     },
     "execution_count": 7,
     "metadata": {},
     "output_type": "execute_result"
    }
   ],
   "source": [
    "m_2 = folium.Map(location=[40.7, -74], zoom_start=11) \n",
    "\n",
    "for idx, row in hospitals.iterrows():\n",
    "    Marker([row['latitude'], row['longitude']], popup=row['name']).add_to(m_2)\n",
    "\n",
    "embed_map(m_2, \"q_2.html\")"
   ]
  },
  {
   "cell_type": "code",
   "execution_count": 8,
   "id": "2dcf8ce6",
   "metadata": {
    "execution": {
     "iopub.execute_input": "2025-09-06T07:57:36.087354Z",
     "iopub.status.busy": "2025-09-06T07:57:36.087022Z",
     "iopub.status.idle": "2025-09-06T07:57:40.281473Z",
     "shell.execute_reply": "2025-09-06T07:57:40.280629Z"
    },
    "papermill": {
     "duration": 4.200787,
     "end_time": "2025-09-06T07:57:40.283087",
     "exception": false,
     "start_time": "2025-09-06T07:57:36.082300",
     "status": "completed"
    },
    "tags": []
   },
   "outputs": [],
   "source": [
    "coverage = gpd.GeoDataFrame(geometry=hospitals.geometry).buffer(10000)\n",
    "my_union = coverage.geometry.unary_union\n",
    "outside_range = collisions.loc[~collisions[\"geometry\"].apply(lambda x: my_union.contains(x))]"
   ]
  },
  {
   "cell_type": "code",
   "execution_count": 9,
   "id": "84197744",
   "metadata": {
    "execution": {
     "iopub.execute_input": "2025-09-06T07:57:40.292126Z",
     "iopub.status.busy": "2025-09-06T07:57:40.291775Z",
     "iopub.status.idle": "2025-09-06T07:57:40.296792Z",
     "shell.execute_reply": "2025-09-06T07:57:40.295701Z"
    },
    "papermill": {
     "duration": 0.011019,
     "end_time": "2025-09-06T07:57:40.298143",
     "exception": false,
     "start_time": "2025-09-06T07:57:40.287124",
     "status": "completed"
    },
    "tags": []
   },
   "outputs": [
    {
     "name": "stdout",
     "output_type": "stream",
     "text": [
      "Percentage of collisions more than 10 km away from the closest hospital: 15.12%\n"
     ]
    }
   ],
   "source": [
    "percentage = round(100*len(outside_range)/len(collisions), 2)\n",
    "print(\"Percentage of collisions more than 10 km away from the closest hospital: {}%\".format(percentage))"
   ]
  },
  {
   "cell_type": "code",
   "execution_count": 10,
   "id": "7c1896fc",
   "metadata": {
    "execution": {
     "iopub.execute_input": "2025-09-06T07:57:40.308702Z",
     "iopub.status.busy": "2025-09-06T07:57:40.307941Z",
     "iopub.status.idle": "2025-09-06T07:57:40.316669Z",
     "shell.execute_reply": "2025-09-06T07:57:40.315734Z"
    },
    "papermill": {
     "duration": 0.015787,
     "end_time": "2025-09-06T07:57:40.318075",
     "exception": false,
     "start_time": "2025-09-06T07:57:40.302288",
     "status": "completed"
    },
    "tags": []
   },
   "outputs": [
    {
     "name": "stdout",
     "output_type": "stream",
     "text": [
      "CALVARY HOSPITAL INC\n"
     ]
    }
   ],
   "source": [
    "def best_hospital(collision_location):\n",
    "    idx_min = hospitals.geometry.distance(collision_location).idxmin()\n",
    "    my_hospital = hospitals.iloc[idx_min]\n",
    "    name = my_hospital[\"name\"]\n",
    "    return name\n",
    "\n",
    "print(best_hospital(outside_range.geometry.iloc[0]))"
   ]
  },
  {
   "cell_type": "code",
   "execution_count": 11,
   "id": "e904ed1d",
   "metadata": {
    "execution": {
     "iopub.execute_input": "2025-09-06T07:57:40.327761Z",
     "iopub.status.busy": "2025-09-06T07:57:40.326843Z",
     "iopub.status.idle": "2025-09-06T07:57:46.975856Z",
     "shell.execute_reply": "2025-09-06T07:57:46.974997Z"
    },
    "papermill": {
     "duration": 6.655346,
     "end_time": "2025-09-06T07:57:46.977445",
     "exception": false,
     "start_time": "2025-09-06T07:57:40.322099",
     "status": "completed"
    },
    "tags": []
   },
   "outputs": [],
   "source": [
    "highest_demand = outside_range.geometry.apply(best_hospital).value_counts().idxmax()"
   ]
  },
  {
   "cell_type": "code",
   "execution_count": 12,
   "id": "1d1f8a5b",
   "metadata": {
    "execution": {
     "iopub.execute_input": "2025-09-06T07:57:46.986849Z",
     "iopub.status.busy": "2025-09-06T07:57:46.986559Z",
     "iopub.status.idle": "2025-09-06T07:57:47.877347Z",
     "shell.execute_reply": "2025-09-06T07:57:47.876499Z"
    },
    "papermill": {
     "duration": 0.897046,
     "end_time": "2025-09-06T07:57:47.878712",
     "exception": false,
     "start_time": "2025-09-06T07:57:46.981666",
     "status": "completed"
    },
    "tags": []
   },
   "outputs": [
    {
     "data": {
      "text/html": [
       "\n",
       "        <iframe\n",
       "            width=\"100%\"\n",
       "            height=\"500px\"\n",
       "            src=\"m_6.html\"\n",
       "            frameborder=\"0\"\n",
       "            allowfullscreen\n",
       "            \n",
       "        ></iframe>\n",
       "        "
      ],
      "text/plain": [
       "<IPython.lib.display.IFrame at 0x7b7ebf35e310>"
      ]
     },
     "execution_count": 12,
     "metadata": {},
     "output_type": "execute_result"
    }
   ],
   "source": [
    "m_6 = folium.Map(location=[40.7, -74], zoom_start=11) \n",
    "\n",
    "coverage = gpd.GeoDataFrame(geometry=hospitals.geometry).buffer(10000)\n",
    "folium.GeoJson(coverage.geometry.to_crs(epsg=4326)).add_to(m_6)\n",
    "HeatMap(data=outside_range[['LATITUDE', 'LONGITUDE']], radius=9).add_to(m_6)\n",
    "folium.LatLngPopup().add_to(m_6)\n",
    "\n",
    "embed_map(m_6, 'm_6.html')"
   ]
  },
  {
   "cell_type": "code",
   "execution_count": 13,
   "id": "ff6acaa6",
   "metadata": {
    "execution": {
     "iopub.execute_input": "2025-09-06T07:57:47.888319Z",
     "iopub.status.busy": "2025-09-06T07:57:47.887676Z",
     "iopub.status.idle": "2025-09-06T07:57:48.747268Z",
     "shell.execute_reply": "2025-09-06T07:57:48.746395Z"
    },
    "papermill": {
     "duration": 0.865948,
     "end_time": "2025-09-06T07:57:48.748741",
     "exception": false,
     "start_time": "2025-09-06T07:57:47.882793",
     "status": "completed"
    },
    "tags": []
   },
   "outputs": [
    {
     "name": "stderr",
     "output_type": "stream",
     "text": [
      "/usr/local/lib/python3.11/dist-packages/pyproj/crs/crs.py:143: FutureWarning: '+init=<authority>:<code>' syntax is deprecated. '<authority>:<code>' is the preferred initialization method. When making the change, be mindful of axis order changes: https://pyproj4.github.io/pyproj/stable/gotchas.html#axis-order-changes-in-proj-6\n",
      "  in_crs_string = _prepare_from_proj_string(in_crs_string)\n"
     ]
    },
    {
     "name": "stdout",
     "output_type": "stream",
     "text": [
      "(NEW) Percentage of collisions more than 10 km away from the closest hospital: 9.12%\n"
     ]
    },
    {
     "data": {
      "application/javascript": [
       "parent.postMessage({\"jupyterEvent\": \"custom.exercise_interaction\", \"data\": {\"outcomeType\": 1, \"valueTowardsCompletion\": 0.16666666666666666, \"interactionType\": 1, \"questionType\": 2, \"questionId\": \"6_Q6\", \"learnToolsVersion\": \"0.3.5\", \"failureMessage\": \"\", \"exceptionClass\": \"\", \"trace\": \"\"}}, \"*\")"
      ],
      "text/plain": [
       "<IPython.core.display.Javascript object>"
      ]
     },
     "metadata": {},
     "output_type": "display_data"
    },
    {
     "data": {
      "text/markdown": [
       "<span style=\"color:#33cc33\">Correct</span>"
      ],
      "text/plain": [
       "Correct"
      ]
     },
     "metadata": {},
     "output_type": "display_data"
    },
    {
     "data": {
      "text/html": [
       "\n",
       "        <iframe\n",
       "            width=\"100%\"\n",
       "            height=\"500px\"\n",
       "            src=\"q_6.html\"\n",
       "            frameborder=\"0\"\n",
       "            allowfullscreen\n",
       "            \n",
       "        ></iframe>\n",
       "        "
      ],
      "text/plain": [
       "<IPython.lib.display.IFrame at 0x7b7ea54d9310>"
      ]
     },
     "metadata": {},
     "output_type": "display_data"
    }
   ],
   "source": [
    "lat_1 = 40.6714\n",
    "long_1 = -73.8492\n",
    "\n",
    "lat_2 = 40.6702\n",
    "long_2 = -73.7612\n",
    "\n",
    "try:\n",
    "    new_df = pd.DataFrame(\n",
    "        {'Latitude': [lat_1, lat_2],\n",
    "         'Longitude': [long_1, long_2]})\n",
    "    new_gdf = gpd.GeoDataFrame(new_df, geometry=gpd.points_from_xy(new_df.Longitude, new_df.Latitude))\n",
    "    new_gdf.crs = {'init' :'epsg:4326'}\n",
    "    new_gdf = new_gdf.to_crs(epsg=2263)\n",
    "    # get new percentage\n",
    "    new_coverage = gpd.GeoDataFrame(geometry=new_gdf.geometry).buffer(10000)\n",
    "    new_my_union = new_coverage.geometry.unary_union\n",
    "    new_outside_range = outside_range.loc[~outside_range[\"geometry\"].apply(lambda x: new_my_union.contains(x))]\n",
    "    new_percentage = round(100*len(new_outside_range)/len(collisions), 2)\n",
    "    print(\"(NEW) Percentage of collisions more than 10 km away from the closest hospital: {}%\".format(new_percentage))\n",
    "    # Did you help the city to meet its goal?\n",
    "    q_6.check()\n",
    "    # make the map\n",
    "    m = folium.Map(location=[40.7, -74], zoom_start=11) \n",
    "    folium.GeoJson(coverage.geometry.to_crs(epsg=4326)).add_to(m)\n",
    "    folium.GeoJson(new_coverage.geometry.to_crs(epsg=4326)).add_to(m)\n",
    "    for idx, row in new_gdf.iterrows():\n",
    "        Marker([row['Latitude'], row['Longitude']]).add_to(m)\n",
    "    HeatMap(data=new_outside_range[['LATITUDE', 'LONGITUDE']], radius=9).add_to(m)\n",
    "    folium.LatLngPopup().add_to(m)\n",
    "    display(embed_map(m, 'q_6.html'))\n",
    "except:\n",
    "    q_6.hint()"
   ]
  }
 ],
 "metadata": {
  "kaggle": {
   "accelerator": "none",
   "dataSources": [
    {
     "datasetId": 348259,
     "sourceId": 695175,
     "sourceType": "datasetVersion"
    }
   ],
   "dockerImageVersionId": 31089,
   "isGpuEnabled": false,
   "isInternetEnabled": false,
   "language": "python",
   "sourceType": "notebook"
  },
  "kernelspec": {
   "display_name": "Python 3",
   "language": "python",
   "name": "python3"
  },
  "language_info": {
   "codemirror_mode": {
    "name": "ipython",
    "version": 3
   },
   "file_extension": ".py",
   "mimetype": "text/x-python",
   "name": "python",
   "nbconvert_exporter": "python",
   "pygments_lexer": "ipython3",
   "version": "3.11.13"
  },
  "papermill": {
   "default_parameters": {},
   "duration": 110.335052,
   "end_time": "2025-09-06T07:57:50.977969",
   "environment_variables": {},
   "exception": null,
   "input_path": "__notebook__.ipynb",
   "output_path": "__notebook__.ipynb",
   "parameters": {},
   "start_time": "2025-09-06T07:56:00.642917",
   "version": "2.6.0"
  }
 },
 "nbformat": 4,
 "nbformat_minor": 5
}
